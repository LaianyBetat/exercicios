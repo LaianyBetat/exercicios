{
 "cells": [
  {
   "cell_type": "markdown",
   "id": "40538f29",
   "metadata": {},
   "source": [
    "## 1. Faça um programa que tenha uma função chamada amplitude. A função deve receber uma lista e imprimir a amplitude. Crie também um código para testar sua função\n"
   ]
  },
  {
   "cell_type": "code",
   "execution_count": 27,
   "id": "cb97b53a",
   "metadata": {},
   "outputs": [
    {
     "name": "stdout",
     "output_type": "stream",
     "text": [
      "amplitude: 13\n"
     ]
    }
   ],
   "source": [
    "lista = [2, 3, 10, 11, 12, 15]\n",
    "def amplitude(list):\n",
    "    print (\"amplitude:\", max(list)- min(list))\n",
    "\n",
    "\n",
    "amplitude(lista)\n",
    "\n",
    "    "
   ]
  },
  {
   "cell_type": "markdown",
   "id": "9e708e13",
   "metadata": {},
   "source": [
    "## 2. Faça uma função que receba uma string e imprima esta string na forma vertical. \n",
    "Por exemplo, se receber python, deve imprimir\n",
    "p\n",
    "y\n",
    "t\n",
    "h\n",
    "o\n",
    "n"
   ]
  },
  {
   "cell_type": "markdown",
   "id": "549800b9",
   "metadata": {},
   "source": []
  },
  {
   "cell_type": "code",
   "execution_count": 43,
   "id": "de14dec0",
   "metadata": {},
   "outputs": [
    {
     "name": "stdout",
     "output_type": "stream",
     "text": [
      "P\n",
      "y\n",
      "t\n",
      "h\n",
      "o\n",
      "n\n"
     ]
    }
   ],
   "source": [
    "def imprime(texto):\n",
    "    for n in range(0, len(texto)):\n",
    "        print(texto[n])\n",
    "\n",
    "imprime(\"Python\")\n",
    "\n"
   ]
  },
  {
   "cell_type": "markdown",
   "id": "b09c1a3e",
   "metadata": {},
   "source": [
    "## 3. Crie um programa que leia o peso de uma carga em números inteiros. Se o peso for até 10 kg, informe que o valor será de R 50,00 reais. Entre 11 e 20 kg, informe que o valor será de R 80 reais. Se for maior que 20 kg informe que o transporte não é aceito. Teste vários pesos."
   ]
  },
  {
   "cell_type": "code",
   "execution_count": 50,
   "id": "dfd8cd2e",
   "metadata": {},
   "outputs": [
    {
     "name": "stdout",
     "output_type": "stream",
     "text": [
      "Valor da carga é de R$ 80,00\n"
     ]
    }
   ],
   "source": [
    "peso = 13\n",
    "if peso <= 10:\n",
    "    print(\"Valor da carga é de R$ 50,00\")\n",
    "elif peso >= 11 and peso <=20:\n",
    "    print(\"Valor da carga é de R$ 80,00\")\n",
    "else:\n",
    "    print(\"O transporte não é aceito\")"
   ]
  },
  {
   "cell_type": "code",
   "execution_count": null,
   "id": "854d585d",
   "metadata": {},
   "outputs": [],
   "source": []
  }
 ],
 "metadata": {
  "kernelspec": {
   "display_name": "Python 3 (ipykernel)",
   "language": "python",
   "name": "python3"
  },
  "language_info": {
   "codemirror_mode": {
    "name": "ipython",
    "version": 3
   },
   "file_extension": ".py",
   "mimetype": "text/x-python",
   "name": "python",
   "nbconvert_exporter": "python",
   "pygments_lexer": "ipython3",
   "version": "3.9.12"
  }
 },
 "nbformat": 4,
 "nbformat_minor": 5
}
